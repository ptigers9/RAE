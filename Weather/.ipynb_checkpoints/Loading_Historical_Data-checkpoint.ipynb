{
 "cells": [
  {
   "cell_type": "code",
   "execution_count": 2,
   "metadata": {
    "collapsed": false
   },
   "outputs": [],
   "source": [
    "import pandas as pd\n",
    "import numpy as np\n",
    "import weather \n",
    "import datetime"
   ]
  },
  {
   "cell_type": "code",
   "execution_count": 44,
   "metadata": {
    "collapsed": false
   },
   "outputs": [
    {
     "data": {
      "text/html": [
       "<div>\n",
       "<table border=\"1\" class=\"dataframe\">\n",
       "  <thead>\n",
       "    <tr style=\"text-align: right;\">\n",
       "      <th></th>\n",
       "      <th>City</th>\n",
       "      <th>State</th>\n",
       "      <th>Zip</th>\n",
       "      <th>Url</th>\n",
       "    </tr>\n",
       "  </thead>\n",
       "  <tbody>\n",
       "    <tr>\n",
       "      <th>0</th>\n",
       "      <td>Tulsa</td>\n",
       "      <td>Oklahoma</td>\n",
       "      <td>74104</td>\n",
       "      <td>https://www.wunderground.com/history/airport/K...</td>\n",
       "    </tr>\n",
       "    <tr>\n",
       "      <th>1</th>\n",
       "      <td>Seattle</td>\n",
       "      <td>Washington</td>\n",
       "      <td>98101</td>\n",
       "      <td>https://www.wunderground.com/history/airport/K...</td>\n",
       "    </tr>\n",
       "    <tr>\n",
       "      <th>2</th>\n",
       "      <td>San Francisco</td>\n",
       "      <td>California</td>\n",
       "      <td>94101</td>\n",
       "      <td>https://www.wunderground.com/history/airport/K...</td>\n",
       "    </tr>\n",
       "    <tr>\n",
       "      <th>3</th>\n",
       "      <td>Los Angeles</td>\n",
       "      <td>California</td>\n",
       "      <td>90001</td>\n",
       "      <td>https://www.wunderground.com/history/airport/K...</td>\n",
       "    </tr>\n",
       "    <tr>\n",
       "      <th>4</th>\n",
       "      <td>Boise</td>\n",
       "      <td>Idaho</td>\n",
       "      <td>83701</td>\n",
       "      <td>https://www.wunderground.com/history/airport/K...</td>\n",
       "    </tr>\n",
       "  </tbody>\n",
       "</table>\n",
       "</div>"
      ],
      "text/plain": [
       "            City       State    Zip  \\\n",
       "0          Tulsa    Oklahoma  74104   \n",
       "1        Seattle  Washington  98101   \n",
       "2  San Francisco  California  94101   \n",
       "3    Los Angeles  California  90001   \n",
       "4          Boise       Idaho  83701   \n",
       "\n",
       "                                                 Url  \n",
       "0  https://www.wunderground.com/history/airport/K...  \n",
       "1  https://www.wunderground.com/history/airport/K...  \n",
       "2  https://www.wunderground.com/history/airport/K...  \n",
       "3  https://www.wunderground.com/history/airport/K...  \n",
       "4  https://www.wunderground.com/history/airport/K...  "
      ]
     },
     "execution_count": 44,
     "metadata": {},
     "output_type": "execute_result"
    }
   ],
   "source": [
    "locations = pd.read_csv('Locations.csv')\n",
    "locations.head()"
   ]
  },
  {
   "cell_type": "code",
   "execution_count": null,
   "metadata": {
    "collapsed": false,
    "scrolled": false
   },
   "outputs": [
    {
     "name": "stdout",
     "output_type": "stream",
     "text": [
      "Loading missing data for Tulsa,Oklahoma,74104\n",
      "29 missing dates found\n",
      "DONE\n",
      "\n",
      "Loading missing data for Seattle,Washington,98101\n",
      "29 missing dates found\n",
      "DONE\n",
      "\n",
      "Loading missing data for San Francisco,California,94101\n",
      "29 missing dates found\n",
      "DONE\n",
      "\n",
      "Loading missing data for Los Angeles,California,90001\n",
      "29 missing dates found\n",
      "DONE\n",
      "\n",
      "Loading missing data for Boise,Idaho,83701\n",
      "29 missing dates found\n",
      "DONE\n",
      "\n",
      "Loading missing data for Colorado Springs,Colorado,80202\n",
      "29 missing dates found\n",
      "DONE\n",
      "\n",
      "Loading missing data for Dallas,Texas,75201\n",
      "29 missing dates found\n",
      "DONE\n",
      "\n",
      "Loading missing data for New Orleans,Louisiana,70063\n",
      "29 missing dates found\n",
      "DONE\n",
      "\n",
      "Loading missing data for Miami,Florida,33010\n",
      "29 missing dates found\n",
      "DONE\n",
      "\n",
      "Loading missing data for Atlanta,Georgia,30301\n",
      "29 missing dates found\n",
      "DONE\n",
      "\n",
      "Loading missing data for St Louis,Missouri,63101\n",
      "29 missing dates found\n",
      "DONE\n",
      "\n",
      "Loading missing data for Minneapolis,Minnesota,55401\n",
      "29 missing dates found\n",
      "DONE\n",
      "\n",
      "Loading missing data for Chicago,Illinois,60290\n",
      "29 missing dates found\n",
      "DONE\n",
      "\n",
      "Loading missing data for Boston,Massachusetts,2101\n",
      "29 missing dates found\n"
     ]
    }
   ],
   "source": [
    "df = pd.read_csv('Data/Historical_Data.csv')\n",
    "start_date = datetime.date(year=1970, month=1, day=1)\n",
    "end_date = datetime.date(year=1970, month=1, day=31)\n",
    "\n",
    "for index, row in locations.iterrows():\n",
    "    city = row['City']\n",
    "    state = row['State']\n",
    "    zip = row['Zip']\n",
    "    \n",
    "    df = weather.find_and_add_missing_city_date_data_to_df(df, start_date, end_date, city, state, zip)\n",
    "    df.sort_values(['City','State','Zip','DateUTC']).to_csv('Data/Historical_Data.csv', index=False)"
   ]
  }
 ],
 "metadata": {
  "anaconda-cloud": {},
  "kernelspec": {
   "display_name": "Python [Root]",
   "language": "python",
   "name": "Python [Root]"
  },
  "language_info": {
   "codemirror_mode": {
    "name": "ipython",
    "version": 2
   },
   "file_extension": ".py",
   "mimetype": "text/x-python",
   "name": "python",
   "nbconvert_exporter": "python",
   "pygments_lexer": "ipython2",
   "version": "2.7.12"
  }
 },
 "nbformat": 4,
 "nbformat_minor": 0
}
