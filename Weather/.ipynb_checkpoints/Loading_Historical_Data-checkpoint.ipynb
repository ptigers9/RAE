{
 "cells": [
  {
   "cell_type": "code",
   "execution_count": 2,
   "metadata": {
    "collapsed": false
   },
   "outputs": [],
   "source": [
    "import pandas as pd\n",
    "import numpy as np\n",
    "import weather \n",
    "import datetime"
   ]
  },
  {
   "cell_type": "code",
   "execution_count": 3,
   "metadata": {
    "collapsed": false
   },
   "outputs": [
    {
     "data": {
      "text/html": [
       "<div>\n",
       "<table border=\"1\" class=\"dataframe\">\n",
       "  <thead>\n",
       "    <tr style=\"text-align: right;\">\n",
       "      <th></th>\n",
       "      <th>City</th>\n",
       "      <th>State</th>\n",
       "      <th>Zip</th>\n",
       "      <th>Url</th>\n",
       "    </tr>\n",
       "  </thead>\n",
       "  <tbody>\n",
       "    <tr>\n",
       "      <th>0</th>\n",
       "      <td>Tulsa</td>\n",
       "      <td>Oklahoma</td>\n",
       "      <td>74104</td>\n",
       "      <td>https://www.wunderground.com/history/airport/K...</td>\n",
       "    </tr>\n",
       "    <tr>\n",
       "      <th>1</th>\n",
       "      <td>Seattle</td>\n",
       "      <td>Washington</td>\n",
       "      <td>98101</td>\n",
       "      <td>https://www.wunderground.com/history/airport/K...</td>\n",
       "    </tr>\n",
       "    <tr>\n",
       "      <th>2</th>\n",
       "      <td>San Francisco</td>\n",
       "      <td>California</td>\n",
       "      <td>94101</td>\n",
       "      <td>https://www.wunderground.com/history/airport/K...</td>\n",
       "    </tr>\n",
       "    <tr>\n",
       "      <th>3</th>\n",
       "      <td>Los Angeles</td>\n",
       "      <td>California</td>\n",
       "      <td>90001</td>\n",
       "      <td>https://www.wunderground.com/history/airport/K...</td>\n",
       "    </tr>\n",
       "    <tr>\n",
       "      <th>4</th>\n",
       "      <td>Boise</td>\n",
       "      <td>Idaho</td>\n",
       "      <td>83701</td>\n",
       "      <td>https://www.wunderground.com/history/airport/K...</td>\n",
       "    </tr>\n",
       "  </tbody>\n",
       "</table>\n",
       "</div>"
      ],
      "text/plain": [
       "            City       State    Zip  \\\n",
       "0          Tulsa    Oklahoma  74104   \n",
       "1        Seattle  Washington  98101   \n",
       "2  San Francisco  California  94101   \n",
       "3    Los Angeles  California  90001   \n",
       "4          Boise       Idaho  83701   \n",
       "\n",
       "                                                 Url  \n",
       "0  https://www.wunderground.com/history/airport/K...  \n",
       "1  https://www.wunderground.com/history/airport/K...  \n",
       "2  https://www.wunderground.com/history/airport/K...  \n",
       "3  https://www.wunderground.com/history/airport/K...  \n",
       "4  https://www.wunderground.com/history/airport/K...  "
      ]
     },
     "execution_count": 3,
     "metadata": {},
     "output_type": "execute_result"
    }
   ],
   "source": [
    "locations = pd.read_csv('Locations.csv')\n",
    "locations.head()"
   ]
  },
  {
   "cell_type": "code",
   "execution_count": 98,
   "metadata": {
    "collapsed": false,
    "scrolled": true
   },
   "outputs": [
    {
     "name": "stdout",
     "output_type": "stream",
     "text": [
      "17 missing dates found\n",
      "\n",
      "DONE\n"
     ]
    }
   ],
   "source": [
    "df = pd.read_csv('Data/Historical_Data.csv')\n",
    "start_date = datetime.date(year=2016, month=9, day=15)\n",
    "end_date = datetime.date(year=2016, month=1, day=1)\n",
    "city = 'Seattle'\n",
    "state = 'Washington'\n",
    "zip = 98101\n",
    "\n",
    "new_df = weather.find_and_add_missing_city_date_data_to_df(df, start_date, end_date, city, state, zip)\n",
    "\n",
    "new_df.sort_values(['City','State','Zip','DateUTC']).to_csv('Data/Historical_Data.csv', index=False)"
   ]
  },
  {
   "cell_type": "code",
   "execution_count": 86,
   "metadata": {
    "collapsed": false
   },
   "outputs": [
    {
     "data": {
      "text/plain": [
       "<module 'weather' from 'weather.py'>"
      ]
     },
     "execution_count": 86,
     "metadata": {},
     "output_type": "execute_result"
    }
   ],
   "source": [
    "reload(weather)"
   ]
  },
  {
   "cell_type": "code",
   "execution_count": 93,
   "metadata": {
    "collapsed": false
   },
   "outputs": [
    {
     "data": {
      "text/html": [
       "<div>\n",
       "<table border=\"1\" class=\"dataframe\">\n",
       "  <thead>\n",
       "    <tr style=\"text-align: right;\">\n",
       "      <th></th>\n",
       "      <th>Conditions</th>\n",
       "      <th>DateUTC</th>\n",
       "      <th>Dew PointF</th>\n",
       "      <th>Events</th>\n",
       "      <th>Gust SpeedMPH</th>\n",
       "      <th>Humidity</th>\n",
       "      <th>PrecipitationIn</th>\n",
       "      <th>Sea Level PressureIn</th>\n",
       "      <th>TemperatureF</th>\n",
       "      <th>TimeCDT</th>\n",
       "      <th>VisibilityMPH</th>\n",
       "      <th>Wind Direction</th>\n",
       "      <th>Wind SpeedMPH</th>\n",
       "      <th>WindDirDegrees</th>\n",
       "      <th>City</th>\n",
       "      <th>State</th>\n",
       "      <th>Zip</th>\n",
       "    </tr>\n",
       "  </thead>\n",
       "  <tbody>\n",
       "  </tbody>\n",
       "</table>\n",
       "</div>"
      ],
      "text/plain": [
       "Empty DataFrame\n",
       "Columns: [Conditions, DateUTC, Dew PointF, Events, Gust SpeedMPH, Humidity, PrecipitationIn, Sea Level PressureIn, TemperatureF, TimeCDT, VisibilityMPH, Wind Direction, Wind SpeedMPH, WindDirDegrees, City, State, Zip]\n",
       "Index: []"
      ]
     },
     "execution_count": 93,
     "metadata": {},
     "output_type": "execute_result"
    }
   ],
   "source": [
    "pd.read_csv('Data/Historical_Data_Empty.csv')"
   ]
  },
  {
   "cell_type": "code",
   "execution_count": 81,
   "metadata": {
    "collapsed": false
   },
   "outputs": [
    {
     "data": {
      "text/plain": [
       "Index([u'Conditions', u'DateUTC', u'Dew PointF', u'Events', u'Gust SpeedMPH',\n",
       "       u'Humidity', u'PrecipitationIn', u'Sea Level PressureIn',\n",
       "       u'TemperatureF', u'TimeCDT', u'VisibilityMPH', u'Wind Direction',\n",
       "       u'Wind SpeedMPH', u'WindDirDegrees', u'City', u'State', u'Zip'],\n",
       "      dtype='object')"
      ]
     },
     "execution_count": 81,
     "metadata": {},
     "output_type": "execute_result"
    }
   ],
   "source": [
    "new_df.columns"
   ]
  },
  {
   "cell_type": "code",
   "execution_count": null,
   "metadata": {
    "collapsed": true
   },
   "outputs": [],
   "source": []
  },
  {
   "cell_type": "code",
   "execution_count": 30,
   "metadata": {
    "collapsed": false
   },
   "outputs": [
    {
     "name": "stdout",
     "output_type": "stream",
     "text": [
      "Tulsa\n",
      "Oklahoma\n",
      "74104\n",
      "\n",
      "\n",
      "\n",
      "\n",
      "\n",
      "Seattle\n",
      "Washington\n",
      "98101\n",
      "\n",
      "\n",
      "\n",
      "\n",
      "\n",
      "San Francisco\n",
      "California\n",
      "94101\n",
      "\n",
      "\n",
      "\n",
      "\n",
      "\n",
      "Los Angeles\n",
      "California\n",
      "90001\n",
      "\n",
      "\n",
      "\n",
      "\n",
      "\n",
      "Boise\n",
      "Idaho\n",
      "83701\n",
      "\n",
      "\n",
      "\n",
      "\n",
      "\n",
      "Denver\n",
      "Colorado\n",
      "80202\n",
      "\n",
      "\n",
      "\n",
      "\n",
      "\n",
      "Dallas\n",
      "Texas\n",
      "75201\n",
      "\n",
      "\n",
      "\n",
      "\n",
      "\n",
      "New Orleans\n",
      "Louisiana\n",
      "70063\n",
      "\n",
      "\n",
      "\n",
      "\n",
      "\n",
      "Miami\n",
      "Florida\n",
      "33010\n",
      "\n",
      "\n",
      "\n",
      "\n",
      "\n",
      "Atlanta\n",
      "Georgia\n",
      "30301\n",
      "\n",
      "\n",
      "\n",
      "\n",
      "\n",
      "St Louis\n",
      "Missouri\n",
      "63101\n",
      "\n",
      "\n",
      "\n",
      "\n",
      "\n",
      "Minneapolis\n",
      "Minnesota\n",
      "55401\n",
      "\n",
      "\n",
      "\n",
      "\n",
      "\n",
      "Chicago\n",
      "Illinois\n",
      "60290\n",
      "\n",
      "\n",
      "\n",
      "\n",
      "\n",
      "Boston\n",
      "Massachusetts\n",
      "2101\n",
      "\n",
      "\n",
      "\n",
      "\n",
      "\n",
      "New York City\n",
      "New York\n",
      "10001\n",
      "\n",
      "\n",
      "\n",
      "\n",
      "\n",
      "Washington\n",
      "District of Columbia\n",
      "20001\n",
      "\n",
      "\n",
      "\n",
      "\n",
      "\n"
     ]
    }
   ],
   "source": [
    "locations = pd.read_csv('Locations.csv')\n",
    "\n",
    "for index, row in locations.iterrows():\n",
    "    city = row['City']\n",
    "    state = row['State']\n",
    "    zip = row['Zip']\n",
    "    \n",
    "    weather.get_city_daily_weather(city = city, state = state, zip = zip, start_yr = 2016, start_month = 1, start_day = 1)    "
   ]
  }
 ],
 "metadata": {
  "anaconda-cloud": {},
  "kernelspec": {
   "display_name": "Python [Root]",
   "language": "python",
   "name": "Python [Root]"
  },
  "language_info": {
   "codemirror_mode": {
    "name": "ipython",
    "version": 2
   },
   "file_extension": ".py",
   "mimetype": "text/x-python",
   "name": "python",
   "nbconvert_exporter": "python",
   "pygments_lexer": "ipython2",
   "version": "2.7.12"
  }
 },
 "nbformat": 4,
 "nbformat_minor": 0
}
